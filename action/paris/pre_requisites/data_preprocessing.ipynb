{
 "cells": [
  {
   "cell_type": "markdown",
   "metadata": {},
   "source": [
    "# Data Pre-processing \n",
    "\n",
    "# Step 1 : Contructing a table to store the choosen cities with unique ids"
   ]
  },
  {
   "cell_type": "code",
   "execution_count": 40,
   "metadata": {},
   "outputs": [
    {
     "name": "stdout",
     "output_type": "stream",
     "text": [
      "              city  id\n",
      "0            paris   1\n",
      "1         new york   2\n",
      "2           sydney   3\n",
      "3          bangkok   4\n",
      "4  Rio De Janerio(   5\n"
     ]
    }
   ],
   "source": [
    "import pandas as pd\n",
    "\n",
    "city_details = pd.DataFrame({\n",
    "    'city': ['paris','new york','sydney','bangkok','Rio De Janerio'],\n",
    "    'id': [1,2,3,4,5]\n",
    "})\n",
    "\n",
    "print(city_details)"
   ]
  },
  {
   "cell_type": "markdown",
   "metadata": {},
   "source": [
    "# Reading the listing dataset and storing it in a dataframe\n",
    " "
   ]
  },
  {
   "cell_type": "code",
   "execution_count": 41,
   "metadata": {},
   "outputs": [
    {
     "name": "stdout",
     "output_type": "stream",
     "text": [
      "       id                          listing_url       scrape_id last_scraped  \\\n",
      "0    3109    https://www.airbnb.com/rooms/3109  20240906025355   2024-09-11   \n",
      "1    5396    https://www.airbnb.com/rooms/5396  20240906025355   2024-09-13   \n",
      "2    7397    https://www.airbnb.com/rooms/7397  20240906025355   2024-09-06   \n",
      "3    7964    https://www.airbnb.com/rooms/7964  20240906025355   2024-09-10   \n",
      "4  241715  https://www.airbnb.com/rooms/241715  20240906025355   2024-09-11   \n",
      "\n",
      "            source                                               name  \\\n",
      "0      city scrape                                       zen and calm   \n",
      "1      city scrape       Your perfect Paris studio on Île Saint-Louis   \n",
      "2      city scrape                   MARAIS - 2ROOMS APT - 2/4 PEOPLE   \n",
      "3  previous scrape                       Sunny apartment with balcony   \n",
      "4      city scrape  Big Cosy Appartement with 100 m2 Terrace in Paris   \n",
      "\n",
      "                                         description  \\\n",
      "0  Lovely Appartment with one bedroom with a Quee...   \n",
      "1  NEW SOFA-BED SINCE JUNE 2023, Please disregard...   \n",
      "2          VERY CONVENIENT, WITH THE BEST LOCATION !   \n",
      "3  We are renting our a spacious, sunny fully fur...   \n",
      "4  Come to stay in our unique Parisian flat to en...   \n",
      "\n",
      "                               neighborhood_overview  \\\n",
      "0  Good restaurants<br />very close the Montparna...   \n",
      "1  You are within walking distance to the Louvre,...   \n",
      "2                                                NaN   \n",
      "3                                                NaN   \n",
      "4  The 19th arrondissement of Paris, located in t...   \n",
      "\n",
      "                                         picture_url  host_id  ...  \\\n",
      "0  https://a0.muscache.com/pictures/miso/Hosting-...     3631  ...   \n",
      "1  https://a0.muscache.com/pictures/52413/f9bf76f...     7903  ...   \n",
      "2  https://a0.muscache.com/pictures/67928287/330b...     2626  ...   \n",
      "3  https://a0.muscache.com/pictures/miso/Hosting-...    22155  ...   \n",
      "4  https://a0.muscache.com/pictures/miso/Hosting-...  3342097  ...   \n",
      "\n",
      "  review_scores_communication review_scores_location review_scores_value  \\\n",
      "0                        5.00                   5.00                5.00   \n",
      "1                        4.84                   4.96                4.59   \n",
      "2                        4.89                   4.93                4.74   \n",
      "3                        5.00                   5.00                5.00   \n",
      "4                         NaN                    NaN                 NaN   \n",
      "\n",
      "         license instant_bookable calculated_host_listings_count  \\\n",
      "0  7511409139079                t                              1   \n",
      "1  7510402838018                f                              1   \n",
      "2  7510400829623                f                              1   \n",
      "3  7510903576564                f                              1   \n",
      "4  7511913070313                f                              1   \n",
      "\n",
      "  calculated_host_listings_count_entire_homes  \\\n",
      "0                                           1   \n",
      "1                                           1   \n",
      "2                                           1   \n",
      "3                                           1   \n",
      "4                                           1   \n",
      "\n",
      "  calculated_host_listings_count_private_rooms  \\\n",
      "0                                            0   \n",
      "1                                            0   \n",
      "2                                            0   \n",
      "3                                            0   \n",
      "4                                            0   \n",
      "\n",
      "  calculated_host_listings_count_shared_rooms reviews_per_month  \n",
      "0                                           0              0.05  \n",
      "1                                           0              2.23  \n",
      "2                                           0              2.20  \n",
      "3                                           0              0.03  \n",
      "4                                           0               NaN  \n",
      "\n",
      "[5 rows x 75 columns]\n"
     ]
    }
   ],
   "source": [
    "import pandas as pd\n",
    "\n",
    "list_paris_df = pd.read_csv('/Users/shashwathkumar/Jupiitor notebook/assignment_1/dataset/listing/listing_paris.csv')\n",
    "print(list_paris_df.head())"
   ]
  },
  {
   "cell_type": "markdown",
   "metadata": {},
   "source": [
    "# Priting the structure of the dataframe"
   ]
  },
  {
   "cell_type": "code",
   "execution_count": 42,
   "metadata": {},
   "outputs": [
    {
     "name": "stdout",
     "output_type": "stream",
     "text": [
      "(95461, 75)\n"
     ]
    }
   ],
   "source": [
    "print(list_paris_df.shape)"
   ]
  },
  {
   "cell_type": "markdown",
   "metadata": {},
   "source": [
    "# Printing the column names of the dataframe"
   ]
  },
  {
   "cell_type": "code",
   "execution_count": 43,
   "metadata": {},
   "outputs": [
    {
     "name": "stdout",
     "output_type": "stream",
     "text": [
      "Index(['id', 'listing_url', 'scrape_id', 'last_scraped', 'source', 'name',\n",
      "       'description', 'neighborhood_overview', 'picture_url', 'host_id',\n",
      "       'host_url', 'host_name', 'host_since', 'host_location', 'host_about',\n",
      "       'host_response_time', 'host_response_rate', 'host_acceptance_rate',\n",
      "       'host_is_superhost', 'host_thumbnail_url', 'host_picture_url',\n",
      "       'host_neighbourhood', 'host_listings_count',\n",
      "       'host_total_listings_count', 'host_verifications',\n",
      "       'host_has_profile_pic', 'host_identity_verified', 'neighbourhood',\n",
      "       'neighbourhood_cleansed', 'neighbourhood_group_cleansed', 'latitude',\n",
      "       'longitude', 'property_type', 'room_type', 'accommodates', 'bathrooms',\n",
      "       'bathrooms_text', 'bedrooms', 'beds', 'amenities', 'price',\n",
      "       'minimum_nights', 'maximum_nights', 'minimum_minimum_nights',\n",
      "       'maximum_minimum_nights', 'minimum_maximum_nights',\n",
      "       'maximum_maximum_nights', 'minimum_nights_avg_ntm',\n",
      "       'maximum_nights_avg_ntm', 'calendar_updated', 'has_availability',\n",
      "       'availability_30', 'availability_60', 'availability_90',\n",
      "       'availability_365', 'calendar_last_scraped', 'number_of_reviews',\n",
      "       'number_of_reviews_ltm', 'number_of_reviews_l30d', 'first_review',\n",
      "       'last_review', 'review_scores_rating', 'review_scores_accuracy',\n",
      "       'review_scores_cleanliness', 'review_scores_checkin',\n",
      "       'review_scores_communication', 'review_scores_location',\n",
      "       'review_scores_value', 'license', 'instant_bookable',\n",
      "       'calculated_host_listings_count',\n",
      "       'calculated_host_listings_count_entire_homes',\n",
      "       'calculated_host_listings_count_private_rooms',\n",
      "       'calculated_host_listings_count_shared_rooms', 'reviews_per_month'],\n",
      "      dtype='object')\n"
     ]
    }
   ],
   "source": [
    "print(list_paris_df.columns)"
   ]
  },
  {
   "cell_type": "markdown",
   "metadata": {},
   "source": [
    "# Removing the undesirable columns from the dataframe"
   ]
  },
  {
   "cell_type": "code",
   "execution_count": 44,
   "metadata": {},
   "outputs": [
    {
     "name": "stdout",
     "output_type": "stream",
     "text": [
      "(95461, 60)\n"
     ]
    }
   ],
   "source": [
    "list_paris_df = list_paris_df.drop(columns=['listing_url','scrape_id','last_scraped','source','picture_url','host_url','host_response_time',\n",
    "                                                          'host_response_rate','host_acceptance_rate','host_thumbnail_url','host_picture_url','neighbourhood_group_cleansed',\n",
    "                                                          'calendar_updated','license','calendar_last_scraped'])\n",
    "\n",
    "print(list_paris_df.shape)"
   ]
  },
  {
   "cell_type": "markdown",
   "metadata": {},
   "source": [
    "# Associating the city_id to all the records in the dataframe"
   ]
  },
  {
   "cell_type": "code",
   "execution_count": 46,
   "metadata": {},
   "outputs": [
    {
     "name": "stdout",
     "output_type": "stream",
     "text": [
      "(95461, 61)\n"
     ]
    }
   ],
   "source": [
    "paris_id = city_details.loc[city_details['city'] == 'paris']['id'].values[0]\n",
    "\n",
    "list_paris_df['city_id'] = paris_id\n",
    "\n",
    "print(list_paris_df.shape)"
   ]
  },
  {
   "cell_type": "markdown",
   "metadata": {},
   "source": [
    "# Pritning the dataframe"
   ]
  },
  {
   "cell_type": "code",
   "execution_count": 47,
   "metadata": {},
   "outputs": [
    {
     "name": "stdout",
     "output_type": "stream",
     "text": [
      "                        id                                               name  \\\n",
      "0                     3109                                       zen and calm   \n",
      "1                     5396       Your perfect Paris studio on Île Saint-Louis   \n",
      "2                     7397                   MARAIS - 2ROOMS APT - 2/4 PEOPLE   \n",
      "3                     7964                       Sunny apartment with balcony   \n",
      "4                   241715  Big Cosy Appartement with 100 m2 Terrace in Paris   \n",
      "...                    ...                                                ...   \n",
      "95456  1238568635341928457                 Spacieux studio 4P, porte st cloud   \n",
      "95457  1238594326004996232              Luxury 3BR Arc Triomphe Champs Élysée   \n",
      "95458  1238755949783144791                                [F-16] 파리 5인여성 다인실방   \n",
      "95459  1239120896239244086    Large and bright flat nearby Montmartre - Paris   \n",
      "95460  1239136641042729451                     Studio with Balcony in the 5th   \n",
      "\n",
      "                                             description  \\\n",
      "0      Lovely Appartment with one bedroom with a Quee...   \n",
      "1      NEW SOFA-BED SINCE JUNE 2023, Please disregard...   \n",
      "2              VERY CONVENIENT, WITH THE BEST LOCATION !   \n",
      "3      We are renting our a spacious, sunny fully fur...   \n",
      "4      Come to stay in our unique Parisian flat to en...   \n",
      "...                                                  ...   \n",
      "95456  Forget your worries at this spacious (42m2) an...   \n",
      "95457  Spacious 3 Bedroom Apartment - Close to Champs...   \n",
      "95458     Centrally located with the best accessibility.   \n",
      "95459  MIDTERM STAY ONLY - Located close to the mythi...   \n",
      "95460                                                NaN   \n",
      "\n",
      "                                   neighborhood_overview    host_id host_name  \\\n",
      "0      Good restaurants<br />very close the Montparna...       3631      Anne   \n",
      "1      You are within walking distance to the Louvre,...       7903    Borzou   \n",
      "2                                                    NaN       2626    Franck   \n",
      "3                                                    NaN      22155     Anaïs   \n",
      "4      The 19th arrondissement of Paris, located in t...    3342097     Iryna   \n",
      "...                                                  ...        ...       ...   \n",
      "95456                                                NaN  539077658      Chen   \n",
      "95457                                                NaN  492686946    Martin   \n",
      "95458                                                NaN  264290202    Aishun   \n",
      "95459  Located 10 min away on foot from Montmartre, y...  169497320   Welkeys   \n",
      "95460                                                NaN  564251645    Rusard   \n",
      "\n",
      "       host_since  host_location  \\\n",
      "0      2008-10-14  Paris, France   \n",
      "1      2009-02-14  Paris, France   \n",
      "2      2008-08-30  Paris, France   \n",
      "3      2009-06-18  Paris, France   \n",
      "4      2012-08-22  Paris, France   \n",
      "...           ...            ...   \n",
      "95456  2023-09-26            NaN   \n",
      "95457  2022-12-25  Paris, France   \n",
      "95458  2019-05-26  Paris, France   \n",
      "95459  2018-01-23  Paris, France   \n",
      "95460  2024-02-27            NaN   \n",
      "\n",
      "                                              host_about host_is_superhost  \\\n",
      "0                                                    NaN                 f   \n",
      "1      We have spent a lot of time traveling for work...               NaN   \n",
      "2      I am a writer,54, author of novels, books of l...                 t   \n",
      "3      Hello ! \\r\\nOur apartment is great and I am su...                 f   \n",
      "4      I'm Ukrainian-bourn French, leaving in Paris f...                 f   \n",
      "...                                                  ...               ...   \n",
      "95456                                                NaN                 t   \n",
      "95457  L’hospitalité est une valeur fondamentale, je ...                 f   \n",
      "95458                                           가정주부입니다.                 f   \n",
      "95459  Découvrez l'art français de bien vivre en vaca...                 f   \n",
      "95460                                                NaN                 f   \n",
      "\n",
      "       ... review_scores_communication  review_scores_location  \\\n",
      "0      ...                        5.00                    5.00   \n",
      "1      ...                        4.84                    4.96   \n",
      "2      ...                        4.89                    4.93   \n",
      "3      ...                        5.00                    5.00   \n",
      "4      ...                         NaN                     NaN   \n",
      "...    ...                         ...                     ...   \n",
      "95456  ...                        5.00                    5.00   \n",
      "95457  ...                         NaN                     NaN   \n",
      "95458  ...                         NaN                     NaN   \n",
      "95459  ...                         NaN                     NaN   \n",
      "95460  ...                         NaN                     NaN   \n",
      "\n",
      "       review_scores_value instant_bookable calculated_host_listings_count  \\\n",
      "0                     5.00                t                              1   \n",
      "1                     4.59                f                              1   \n",
      "2                     4.74                f                              1   \n",
      "3                     5.00                f                              1   \n",
      "4                      NaN                f                              1   \n",
      "...                    ...              ...                            ...   \n",
      "95456                 5.00                t                              2   \n",
      "95457                  NaN                t                              7   \n",
      "95458                  NaN                f                             10   \n",
      "95459                  NaN                f                             16   \n",
      "95460                  NaN                t                            146   \n",
      "\n",
      "      calculated_host_listings_count_entire_homes  \\\n",
      "0                                               1   \n",
      "1                                               1   \n",
      "2                                               1   \n",
      "3                                               1   \n",
      "4                                               1   \n",
      "...                                           ...   \n",
      "95456                                           2   \n",
      "95457                                           7   \n",
      "95458                                           0   \n",
      "95459                                          16   \n",
      "95460                                         146   \n",
      "\n",
      "      calculated_host_listings_count_private_rooms  \\\n",
      "0                                                0   \n",
      "1                                                0   \n",
      "2                                                0   \n",
      "3                                                0   \n",
      "4                                                0   \n",
      "...                                            ...   \n",
      "95456                                            0   \n",
      "95457                                            0   \n",
      "95458                                            0   \n",
      "95459                                            0   \n",
      "95460                                            0   \n",
      "\n",
      "      calculated_host_listings_count_shared_rooms  reviews_per_month  city_id  \n",
      "0                                               0               0.05        1  \n",
      "1                                               0               2.23        1  \n",
      "2                                               0               2.20        1  \n",
      "3                                               0               0.03        1  \n",
      "4                                               0                NaN        1  \n",
      "...                                           ...                ...      ...  \n",
      "95456                                           0               1.00        1  \n",
      "95457                                           0                NaN        1  \n",
      "95458                                          10                NaN        1  \n",
      "95459                                           0                NaN        1  \n",
      "95460                                           0                NaN        1  \n",
      "\n",
      "[95461 rows x 61 columns]\n"
     ]
    }
   ],
   "source": [
    "print(list_paris_df)"
   ]
  },
  {
   "cell_type": "markdown",
   "metadata": {},
   "source": [
    "# Reading the review dataset and storing it in a dataframe"
   ]
  },
  {
   "cell_type": "code",
   "execution_count": 69,
   "metadata": {},
   "outputs": [
    {
     "name": "stdout",
     "output_type": "stream",
     "text": [
      "   listing_id         id        date  reviewer_id reviewer_name  \\\n",
      "0        3109  207127433  2017-10-28     51636494      Patricia   \n",
      "1        3109  208779822  2017-11-03      4142888      Patricia   \n",
      "2        3109  295840159  2018-07-24      7415343       Laurent   \n",
      "3        3109  553502638  2019-10-24     21159216     Anastasia   \n",
      "4        5396       4824  2009-06-30        19995         Sarah   \n",
      "\n",
      "                                            comments  \n",
      "0            Tout s'est bien déroulé. Merci bien. PG  \n",
      "1  Un petit nid fouiller douillet situé dans  app...  \n",
      "2  Appartement spacieux, propre,clair, et calme à...  \n",
      "3  Appartement totalement rénové, en parfait état...  \n",
      "4  Perfect location!! Nasrine was a delight and m...  \n"
     ]
    }
   ],
   "source": [
    "import pandas as pd\n",
    "\n",
    "reviews_paris_df = pd.read_csv('/Users/shashwathkumar/Jupiitor notebook/assignment_1/dataset/reviews/reviews_paris.csv')\n",
    "print(reviews_paris_df.head())"
   ]
  },
  {
   "cell_type": "markdown",
   "metadata": {},
   "source": [
    "# Priting the structure of the dataframe"
   ]
  },
  {
   "cell_type": "code",
   "execution_count": 49,
   "metadata": {},
   "outputs": [
    {
     "name": "stdout",
     "output_type": "stream",
     "text": [
      "(1999650, 6)\n"
     ]
    }
   ],
   "source": [
    "print(reviews_paris_df.shape)"
   ]
  },
  {
   "cell_type": "markdown",
   "metadata": {},
   "source": [
    "# Removing the undesirable columns from the dataframe"
   ]
  },
  {
   "cell_type": "code",
   "execution_count": 50,
   "metadata": {},
   "outputs": [
    {
     "name": "stdout",
     "output_type": "stream",
     "text": [
      "(1999650, 5)\n"
     ]
    }
   ],
   "source": [
    "reviews_paris_df = reviews_paris_df.drop(columns=['reviewer_id','reviewer_name'])\n",
    "reviews_paris_df['city_id'] = paris_id\n",
    "\n",
    "print(reviews_paris_df.shape)"
   ]
  },
  {
   "cell_type": "markdown",
   "metadata": {},
   "source": [
    "# Printing the shape of the listing and the review dataframe"
   ]
  },
  {
   "cell_type": "code",
   "execution_count": 51,
   "metadata": {},
   "outputs": [
    {
     "name": "stdout",
     "output_type": "stream",
     "text": [
      "(95461, 61)\n",
      "(1999650, 5)\n"
     ]
    }
   ],
   "source": [
    "print(list_paris_df.shape)\n",
    "print(reviews_paris_df.shape)"
   ]
  },
  {
   "cell_type": "markdown",
   "metadata": {},
   "source": [
    "# Analyzing the column to check for null values"
   ]
  },
  {
   "cell_type": "code",
   "execution_count": 52,
   "metadata": {},
   "outputs": [
    {
     "name": "stdout",
     "output_type": "stream",
     "text": [
      "<class 'pandas.core.frame.DataFrame'>\n",
      "RangeIndex: 95461 entries, 0 to 95460\n",
      "Data columns (total 61 columns):\n",
      " #   Column                                        Non-Null Count  Dtype  \n",
      "---  ------                                        --------------  -----  \n",
      " 0   id                                            95461 non-null  int64  \n",
      " 1   name                                          95461 non-null  object \n",
      " 2   description                                   91385 non-null  object \n",
      " 3   neighborhood_overview                         48179 non-null  object \n",
      " 4   host_id                                       95461 non-null  int64  \n",
      " 5   host_name                                     95455 non-null  object \n",
      " 6   host_since                                    95455 non-null  object \n",
      " 7   host_location                                 75907 non-null  object \n",
      " 8   host_about                                    41035 non-null  object \n",
      " 9   host_is_superhost                             93159 non-null  object \n",
      " 10  host_neighbourhood                            33272 non-null  object \n",
      " 11  host_listings_count                           95455 non-null  float64\n",
      " 12  host_total_listings_count                     95455 non-null  float64\n",
      " 13  host_verifications                            95455 non-null  object \n",
      " 14  host_has_profile_pic                          95455 non-null  object \n",
      " 15  host_identity_verified                        95455 non-null  object \n",
      " 16  neighbourhood                                 48179 non-null  object \n",
      " 17  neighbourhood_cleansed                        95461 non-null  object \n",
      " 18  latitude                                      95461 non-null  float64\n",
      " 19  longitude                                     95461 non-null  float64\n",
      " 20  property_type                                 95461 non-null  object \n",
      " 21  room_type                                     95461 non-null  object \n",
      " 22  accommodates                                  95461 non-null  int64  \n",
      " 23  bathrooms                                     64222 non-null  float64\n",
      " 24  bathrooms_text                                95371 non-null  object \n",
      " 25  bedrooms                                      88056 non-null  float64\n",
      " 26  beds                                          64101 non-null  float64\n",
      " 27  amenities                                     95461 non-null  object \n",
      " 28  price                                         64230 non-null  object \n",
      " 29  minimum_nights                                95461 non-null  int64  \n",
      " 30  maximum_nights                                95461 non-null  int64  \n",
      " 31  minimum_minimum_nights                        95461 non-null  int64  \n",
      " 32  maximum_minimum_nights                        95461 non-null  int64  \n",
      " 33  minimum_maximum_nights                        95461 non-null  int64  \n",
      " 34  maximum_maximum_nights                        95461 non-null  int64  \n",
      " 35  minimum_nights_avg_ntm                        95461 non-null  float64\n",
      " 36  maximum_nights_avg_ntm                        95461 non-null  float64\n",
      " 37  has_availability                              90592 non-null  object \n",
      " 38  availability_30                               95461 non-null  int64  \n",
      " 39  availability_60                               95461 non-null  int64  \n",
      " 40  availability_90                               95461 non-null  int64  \n",
      " 41  availability_365                              95461 non-null  int64  \n",
      " 42  number_of_reviews                             95461 non-null  int64  \n",
      " 43  number_of_reviews_ltm                         95461 non-null  int64  \n",
      " 44  number_of_reviews_l30d                        95461 non-null  int64  \n",
      " 45  first_review                                  68319 non-null  object \n",
      " 46  last_review                                   68319 non-null  object \n",
      " 47  review_scores_rating                          68319 non-null  float64\n",
      " 48  review_scores_accuracy                        68307 non-null  float64\n",
      " 49  review_scores_cleanliness                     68310 non-null  float64\n",
      " 50  review_scores_checkin                         68300 non-null  float64\n",
      " 51  review_scores_communication                   68309 non-null  float64\n",
      " 52  review_scores_location                        68301 non-null  float64\n",
      " 53  review_scores_value                           68299 non-null  float64\n",
      " 54  instant_bookable                              95461 non-null  object \n",
      " 55  calculated_host_listings_count                95461 non-null  int64  \n",
      " 56  calculated_host_listings_count_entire_homes   95461 non-null  int64  \n",
      " 57  calculated_host_listings_count_private_rooms  95461 non-null  int64  \n",
      " 58  calculated_host_listings_count_shared_rooms   95461 non-null  int64  \n",
      " 59  reviews_per_month                             68319 non-null  float64\n",
      " 60  city_id                                       95461 non-null  int64  \n",
      "dtypes: float64(17), int64(21), object(23)\n",
      "memory usage: 44.4+ MB\n"
     ]
    }
   ],
   "source": [
    "list_paris_df.info()"
   ]
  },
  {
   "cell_type": "markdown",
   "metadata": {},
   "source": [
    "# Specifically looking into column like - price, minimum nights , maximum nights, no of reviews and review score rating "
   ]
  },
  {
   "cell_type": "code",
   "execution_count": 53,
   "metadata": {},
   "outputs": [
    {
     "name": "stdout",
     "output_type": "stream",
     "text": [
      "<class 'pandas.core.series.Series'>\n",
      "RangeIndex: 95461 entries, 0 to 95460\n",
      "Series name: price\n",
      "Non-Null Count  Dtype \n",
      "--------------  ----- \n",
      "64230 non-null  object\n",
      "dtypes: object(1)\n",
      "memory usage: 745.9+ KB\n",
      "None\n"
     ]
    }
   ],
   "source": [
    "print(list_paris_df['price'].info())"
   ]
  },
  {
   "cell_type": "code",
   "execution_count": 54,
   "metadata": {},
   "outputs": [
    {
     "name": "stdout",
     "output_type": "stream",
     "text": [
      "<class 'pandas.core.series.Series'>\n",
      "RangeIndex: 95461 entries, 0 to 95460\n",
      "Series name: minimum_nights\n",
      "Non-Null Count  Dtype\n",
      "--------------  -----\n",
      "95461 non-null  int64\n",
      "dtypes: int64(1)\n",
      "memory usage: 745.9 KB\n",
      "None\n",
      "<class 'pandas.core.series.Series'>\n",
      "RangeIndex: 95461 entries, 0 to 95460\n",
      "Series name: maximum_nights\n",
      "Non-Null Count  Dtype\n",
      "--------------  -----\n",
      "95461 non-null  int64\n",
      "dtypes: int64(1)\n",
      "memory usage: 745.9 KB\n",
      "None\n"
     ]
    }
   ],
   "source": [
    "print(list_paris_df['minimum_nights'].info())\n",
    "print(list_paris_df['maximum_nights'].info())"
   ]
  },
  {
   "cell_type": "code",
   "execution_count": 55,
   "metadata": {},
   "outputs": [
    {
     "name": "stdout",
     "output_type": "stream",
     "text": [
      "<class 'pandas.core.series.Series'>\n",
      "RangeIndex: 95461 entries, 0 to 95460\n",
      "Series name: review_scores_rating\n",
      "Non-Null Count  Dtype  \n",
      "--------------  -----  \n",
      "68319 non-null  float64\n",
      "dtypes: float64(1)\n",
      "memory usage: 745.9 KB\n",
      "None\n",
      "<class 'pandas.core.series.Series'>\n",
      "RangeIndex: 95461 entries, 0 to 95460\n",
      "Series name: number_of_reviews\n",
      "Non-Null Count  Dtype\n",
      "--------------  -----\n",
      "95461 non-null  int64\n",
      "dtypes: int64(1)\n",
      "memory usage: 745.9 KB\n",
      "None\n"
     ]
    }
   ],
   "source": [
    "print(list_paris_df['review_scores_rating'].info())\n",
    "print(list_paris_df['number_of_reviews'].info())"
   ]
  },
  {
   "cell_type": "code",
   "execution_count": 56,
   "metadata": {},
   "outputs": [
    {
     "name": "stdout",
     "output_type": "stream",
     "text": [
      "0     30\n",
      "1    730\n",
      "2    130\n",
      "3    365\n",
      "4    120\n",
      "Name: maximum_nights, dtype: int64\n"
     ]
    }
   ],
   "source": [
    "print(list_paris_df['maximum_nights'].head())"
   ]
  },
  {
   "cell_type": "code",
   "execution_count": 57,
   "metadata": {},
   "outputs": [
    {
     "name": "stdout",
     "output_type": "stream",
     "text": [
      "count    9.546100e+04\n",
      "mean     2.308854e+04\n",
      "std      6.950587e+06\n",
      "min      1.000000e+00\n",
      "25%      4.500000e+01\n",
      "50%      3.650000e+02\n",
      "75%      1.125000e+03\n",
      "max      2.147484e+09\n",
      "Name: maximum_nights, dtype: float64\n"
     ]
    }
   ],
   "source": [
    "print(list_paris_df['maximum_nights'].describe())"
   ]
  },
  {
   "cell_type": "markdown",
   "metadata": {},
   "source": [
    "# Removing the records where price and review score rating is equal to null and storing in a separate dataframe"
   ]
  },
  {
   "cell_type": "code",
   "execution_count": 58,
   "metadata": {},
   "outputs": [],
   "source": [
    "list_paris_price_df = list_paris_df.dropna(subset=['price'])\n",
    "list_paris_review_scores_rating_df = list_paris_df.dropna(subset=['review_scores_rating'])"
   ]
  },
  {
   "cell_type": "markdown",
   "metadata": {},
   "source": [
    "# Printing the structure of all the dataframe"
   ]
  },
  {
   "cell_type": "code",
   "execution_count": 60,
   "metadata": {},
   "outputs": [
    {
     "name": "stdout",
     "output_type": "stream",
     "text": [
      "(95461, 61)\n",
      "(64230, 61)\n",
      "(68319, 61)\n"
     ]
    }
   ],
   "source": [
    "print(list_paris_df.shape)\n",
    "print(list_paris_price_df.shape)\n",
    "print(list_paris_review_scores_rating_df.shape)\n"
   ]
  },
  {
   "cell_type": "markdown",
   "metadata": {},
   "source": [
    "# Analzying the review dataframe "
   ]
  },
  {
   "cell_type": "code",
   "execution_count": 61,
   "metadata": {},
   "outputs": [
    {
     "name": "stdout",
     "output_type": "stream",
     "text": [
      "<class 'pandas.core.frame.DataFrame'>\n",
      "RangeIndex: 1999650 entries, 0 to 1999649\n",
      "Data columns (total 5 columns):\n",
      " #   Column      Dtype \n",
      "---  ------      ----- \n",
      " 0   listing_id  int64 \n",
      " 1   id          int64 \n",
      " 2   date        object\n",
      " 3   comments    object\n",
      " 4   city_id     int64 \n",
      "dtypes: int64(3), object(2)\n",
      "memory usage: 76.3+ MB\n",
      "None\n"
     ]
    }
   ],
   "source": [
    "print(reviews_paris_df.info())"
   ]
  },
  {
   "cell_type": "markdown",
   "metadata": {},
   "source": [
    "# Removing the dollar sign, comma and converting the price column to float datatype in order to perform numerical analysis"
   ]
  },
  {
   "cell_type": "code",
   "execution_count": 62,
   "metadata": {},
   "outputs": [
    {
     "name": "stdout",
     "output_type": "stream",
     "text": [
      "0    113.0\n",
      "1     95.0\n",
      "2    145.0\n",
      "3      NaN\n",
      "4    450.0\n",
      "Name: price, dtype: float64\n",
      "0    113.0\n",
      "1     95.0\n",
      "2    145.0\n",
      "4    450.0\n",
      "8     75.0\n",
      "Name: price, dtype: float64\n",
      "0    113.0\n",
      "1     95.0\n",
      "2    145.0\n",
      "3      NaN\n",
      "5      NaN\n",
      "Name: price, dtype: float64\n"
     ]
    },
    {
     "name": "stderr",
     "output_type": "stream",
     "text": [
      "/var/folders/43/6fvj434j2qjfvdnjgd1n535r0000gn/T/ipykernel_30983/421007768.py:2: SettingWithCopyWarning: \n",
      "A value is trying to be set on a copy of a slice from a DataFrame.\n",
      "Try using .loc[row_indexer,col_indexer] = value instead\n",
      "\n",
      "See the caveats in the documentation: https://pandas.pydata.org/pandas-docs/stable/user_guide/indexing.html#returning-a-view-versus-a-copy\n",
      "  list_paris_price_df['price'] = list_paris_price_df['price'].astype(str).replace({'\\$':''}, regex=True).replace({',':''}, regex=True).astype(float)\n",
      "/var/folders/43/6fvj434j2qjfvdnjgd1n535r0000gn/T/ipykernel_30983/421007768.py:3: SettingWithCopyWarning: \n",
      "A value is trying to be set on a copy of a slice from a DataFrame.\n",
      "Try using .loc[row_indexer,col_indexer] = value instead\n",
      "\n",
      "See the caveats in the documentation: https://pandas.pydata.org/pandas-docs/stable/user_guide/indexing.html#returning-a-view-versus-a-copy\n",
      "  list_paris_review_scores_rating_df['price'] = list_paris_review_scores_rating_df['price'].astype(str).replace({'\\$':''}, regex=True).replace({',':''}, regex=True).astype(float)\n"
     ]
    }
   ],
   "source": [
    "list_paris_df['price'] = list_paris_df['price'].astype(str).replace({'\\$':''}, regex=True).replace({',':''}, regex=True).astype(float)\n",
    "list_paris_price_df['price'] = list_paris_price_df['price'].astype(str).replace({'\\$':''}, regex=True).replace({',':''}, regex=True).astype(float)\n",
    "list_paris_review_scores_rating_df['price'] = list_paris_review_scores_rating_df['price'].astype(str).replace({'\\$':''}, regex=True).replace({',':''}, regex=True).astype(float)\n",
    "\n",
    "print(list_paris_df['price'].head())\n",
    "print(list_paris_price_df['price'].head())\n",
    "print(list_paris_review_scores_rating_df['price'].head())"
   ]
  },
  {
   "cell_type": "markdown",
   "metadata": {},
   "source": [
    "# Data Pre-processing for reviews\n",
    "\n",
    "# Converting the comments to lower case"
   ]
  },
  {
   "cell_type": "code",
   "execution_count": 70,
   "metadata": {},
   "outputs": [
    {
     "name": "stdout",
     "output_type": "stream",
     "text": [
      "0              tout s'est bien déroulé. merci bien. pg\n",
      "1    un petit nid fouiller douillet situé dans  app...\n",
      "2    appartement spacieux, propre,clair, et calme à...\n",
      "3    appartement totalement rénové, en parfait état...\n",
      "4    perfect location!! nasrine was a delight and m...\n",
      "Name: comments, dtype: object\n"
     ]
    }
   ],
   "source": [
    "reviews_paris_df['comments'] = reviews_paris_df['comments'].apply(lambda x: str(x).lower())\n",
    "print(reviews_paris_df['comments'].head())"
   ]
  },
  {
   "cell_type": "markdown",
   "metadata": {},
   "source": [
    "# Removing special characters from comments"
   ]
  },
  {
   "cell_type": "code",
   "execution_count": 71,
   "metadata": {},
   "outputs": [
    {
     "name": "stdout",
     "output_type": "stream",
     "text": [
      "0                 tout sest bien déroulé merci bien pg\n",
      "1    un petit nid fouiller douillet situé dans  app...\n",
      "2    appartement spacieux propreclair et calme à pr...\n",
      "3    appartement totalement rénové en parfait état ...\n",
      "4    perfect location nasrine was a delight and mad...\n",
      "Name: comments, dtype: object\n"
     ]
    }
   ],
   "source": [
    "import re\n",
    " \n",
    "reviews_paris_df['comments'] = reviews_paris_df['comments'].apply(lambda x: re.sub(r'[!@#$%^&*()_+=\\-~`;:\\'\",.<>/?|\\\\]', '', x))\n",
    "print(reviews_paris_df['comments'].head())"
   ]
  },
  {
   "cell_type": "markdown",
   "metadata": {},
   "source": [
    "# Standardizing the text in the comments section"
   ]
  },
  {
   "cell_type": "code",
   "execution_count": 72,
   "metadata": {},
   "outputs": [
    {
     "data": {
      "text/plain": [
       "0                 tout sest bien déroulé merci bien pg\n",
       "1    un petit nid fouiller douillet situé dans  app...\n",
       "2    appartement spacieux propreclair et calme à pr...\n",
       "3    appartement totalement rénové en parfait état ...\n",
       "4    perfect location nasrine was a delight and mad...\n",
       "Name: comments, dtype: object"
      ]
     },
     "execution_count": 72,
     "metadata": {},
     "output_type": "execute_result"
    }
   ],
   "source": [
    "reviews_paris_df['comments'] = reviews_paris_df['comments'].apply(lambda x: re.sub(r'(\\d{1,2})/(\\d{1,2})/(\\d{4})', r'\\2-\\1-\\3', x))\n",
    "reviews_paris_df['comments'].head()"
   ]
  },
  {
   "cell_type": "markdown",
   "metadata": {},
   "source": [
    "# Removing numerial characters from comments"
   ]
  },
  {
   "cell_type": "code",
   "execution_count": 73,
   "metadata": {},
   "outputs": [
    {
     "data": {
      "text/plain": [
       "0                 tout sest bien déroulé merci bien pg\n",
       "1    un petit nid fouiller douillet situé dans  app...\n",
       "2    appartement spacieux propreclair et calme à pr...\n",
       "3    appartement totalement rénové en parfait état ...\n",
       "4    perfect location nasrine was a delight and mad...\n",
       "Name: comments, dtype: object"
      ]
     },
     "execution_count": 73,
     "metadata": {},
     "output_type": "execute_result"
    }
   ],
   "source": [
    "reviews_paris_df['comments'] = reviews_paris_df['comments'].str.replace('\\d+', '', regex=True)\n",
    "reviews_paris_df['comments'].head()"
   ]
  },
  {
   "cell_type": "markdown",
   "metadata": {},
   "source": [
    "# Storing the pre-processed data into a .csv file"
   ]
  },
  {
   "cell_type": "code",
   "execution_count": 74,
   "metadata": {},
   "outputs": [],
   "source": [
    "import pandas as pd\n",
    "\n",
    "list_paris_df.to_csv('/Users/shashwathkumar/Jupiitor notebook/assignment_1/dataset/pre_processed_listing_dataset/processed_listing_paris.csv')\n",
    "list_paris_price_df.to_csv('/Users/shashwathkumar/Jupiitor notebook/assignment_1/dataset/pre_processed_listing_dataset/processed_listing_paris_price.csv')\n",
    "list_paris_review_scores_rating_df.to_csv('/Users/shashwathkumar/Jupiitor notebook/assignment_1/dataset/pre_processed_listing_dataset/processed_listing_paris_reviewscore.csv')\n",
    "reviews_paris_df.to_csv('/Users/shashwathkumar/Jupiitor notebook/assignment_1/dataset/pre_processed_review_dataset/processed_review_paris.csv') "
   ]
  }
 ],
 "metadata": {
  "kernelspec": {
   "display_name": "ml-env",
   "language": "python",
   "name": "python3"
  },
  "language_info": {
   "codemirror_mode": {
    "name": "ipython",
    "version": 3
   },
   "file_extension": ".py",
   "mimetype": "text/x-python",
   "name": "python",
   "nbconvert_exporter": "python",
   "pygments_lexer": "ipython3",
   "version": "3.9.19"
  }
 },
 "nbformat": 4,
 "nbformat_minor": 2
}
