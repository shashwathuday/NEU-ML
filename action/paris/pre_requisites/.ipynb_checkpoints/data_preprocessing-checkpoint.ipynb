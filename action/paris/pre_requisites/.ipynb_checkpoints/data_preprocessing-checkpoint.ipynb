{
 "cells": [
  {
   "cell_type": "markdown",
   "metadata": {},
   "source": []
  },
  {
   "cell_type": "code",
   "execution_count": 4,
   "metadata": {},
   "outputs": [
    {
     "name": "stdout",
     "output_type": "stream",
     "text": [
      "              city  id\n",
      "0            paris   1\n",
      "1         new youk   2\n",
      "2           sydney   3\n",
      "3          bangkok   4\n",
      "4  Rio De Janerio(   5\n"
     ]
    }
   ],
   "source": [
    "import pandas as pd\n",
    "\n",
    "city_details = pd.DataFrame({\n",
    "    'city': ['paris','new york','sydney','bangkok','Rio De Janerio('],\n",
    "    'id': [1,2,3,4,5]\n",
    "})\n",
    "\n",
    "print(city_details)"
   ]
  },
  {
   "cell_type": "markdown",
   "metadata": {},
   "source": [
    "\n",
    " "
   ]
  },
  {
   "cell_type": "code",
   "execution_count": 16,
   "metadata": {},
   "outputs": [
    {
     "name": "stdout",
     "output_type": "stream",
     "text": [
      "       id                          listing_url       scrape_id last_scraped  \\\n",
      "0    3109    https://www.airbnb.com/rooms/3109  20240906025355   2024-09-11   \n",
      "1    5396    https://www.airbnb.com/rooms/5396  20240906025355   2024-09-13   \n",
      "2    7397    https://www.airbnb.com/rooms/7397  20240906025355   2024-09-06   \n",
      "3    7964    https://www.airbnb.com/rooms/7964  20240906025355   2024-09-10   \n",
      "4  241715  https://www.airbnb.com/rooms/241715  20240906025355   2024-09-11   \n",
      "\n",
      "            source                                               name  \\\n",
      "0      city scrape                                       zen and calm   \n",
      "1      city scrape       Your perfect Paris studio on Île Saint-Louis   \n",
      "2      city scrape                   MARAIS - 2ROOMS APT - 2/4 PEOPLE   \n",
      "3  previous scrape                       Sunny apartment with balcony   \n",
      "4      city scrape  Big Cosy Appartement with 100 m2 Terrace in Paris   \n",
      "\n",
      "                                         description  \\\n",
      "0  Lovely Appartment with one bedroom with a Quee...   \n",
      "1  NEW SOFA-BED SINCE JUNE 2023, Please disregard...   \n",
      "2          VERY CONVENIENT, WITH THE BEST LOCATION !   \n",
      "3  We are renting our a spacious, sunny fully fur...   \n",
      "4  Come to stay in our unique Parisian flat to en...   \n",
      "\n",
      "                               neighborhood_overview  \\\n",
      "0  Good restaurants<br />very close the Montparna...   \n",
      "1  You are within walking distance to the Louvre,...   \n",
      "2                                                NaN   \n",
      "3                                                NaN   \n",
      "4  The 19th arrondissement of Paris, located in t...   \n",
      "\n",
      "                                         picture_url  host_id  ...  \\\n",
      "0  https://a0.muscache.com/pictures/miso/Hosting-...     3631  ...   \n",
      "1  https://a0.muscache.com/pictures/52413/f9bf76f...     7903  ...   \n",
      "2  https://a0.muscache.com/pictures/67928287/330b...     2626  ...   \n",
      "3  https://a0.muscache.com/pictures/miso/Hosting-...    22155  ...   \n",
      "4  https://a0.muscache.com/pictures/miso/Hosting-...  3342097  ...   \n",
      "\n",
      "  review_scores_communication review_scores_location review_scores_value  \\\n",
      "0                        5.00                   5.00                5.00   \n",
      "1                        4.84                   4.96                4.59   \n",
      "2                        4.89                   4.93                4.74   \n",
      "3                        5.00                   5.00                5.00   \n",
      "4                         NaN                    NaN                 NaN   \n",
      "\n",
      "         license instant_bookable calculated_host_listings_count  \\\n",
      "0  7511409139079                t                              1   \n",
      "1  7510402838018                f                              1   \n",
      "2  7510400829623                f                              1   \n",
      "3  7510903576564                f                              1   \n",
      "4  7511913070313                f                              1   \n",
      "\n",
      "  calculated_host_listings_count_entire_homes  \\\n",
      "0                                           1   \n",
      "1                                           1   \n",
      "2                                           1   \n",
      "3                                           1   \n",
      "4                                           1   \n",
      "\n",
      "  calculated_host_listings_count_private_rooms  \\\n",
      "0                                            0   \n",
      "1                                            0   \n",
      "2                                            0   \n",
      "3                                            0   \n",
      "4                                            0   \n",
      "\n",
      "  calculated_host_listings_count_shared_rooms reviews_per_month  \n",
      "0                                           0              0.05  \n",
      "1                                           0              2.23  \n",
      "2                                           0              2.20  \n",
      "3                                           0              0.03  \n",
      "4                                           0               NaN  \n",
      "\n",
      "[5 rows x 75 columns]\n"
     ]
    }
   ],
   "source": [
    "import pandas as pd\n",
    "\n",
    "list_paris_df = pd.read_csv('/Users/shashwathkumar/Jupiitor notebook/assignment_1/dataset/listing/listing_paris.csv')\n",
    "print(list_paris_df.head())"
   ]
  },
  {
   "cell_type": "markdown",
   "metadata": {},
   "source": []
  },
  {
   "cell_type": "code",
   "execution_count": 15,
   "metadata": {},
   "outputs": [
    {
     "name": "stdout",
     "output_type": "stream",
     "text": [
      "(95461, 60)\n"
     ]
    }
   ],
   "source": [
    "print(list_paris_df.shape)"
   ]
  },
  {
   "cell_type": "markdown",
   "metadata": {},
   "source": []
  },
  {
   "cell_type": "code",
   "execution_count": 14,
   "metadata": {},
   "outputs": [
    {
     "name": "stdout",
     "output_type": "stream",
     "text": [
      "Index(['id', 'name', 'description', 'neighborhood_overview', 'host_id',\n",
      "       'host_name', 'host_since', 'host_location', 'host_about',\n",
      "       'host_is_superhost', 'host_neighbourhood', 'host_listings_count',\n",
      "       'host_total_listings_count', 'host_verifications',\n",
      "       'host_has_profile_pic', 'host_identity_verified', 'neighbourhood',\n",
      "       'neighbourhood_cleansed', 'latitude', 'longitude', 'property_type',\n",
      "       'room_type', 'accommodates', 'bathrooms', 'bathrooms_text', 'bedrooms',\n",
      "       'beds', 'amenities', 'price', 'minimum_nights', 'maximum_nights',\n",
      "       'minimum_minimum_nights', 'maximum_minimum_nights',\n",
      "       'minimum_maximum_nights', 'maximum_maximum_nights',\n",
      "       'minimum_nights_avg_ntm', 'maximum_nights_avg_ntm', 'has_availability',\n",
      "       'availability_30', 'availability_60', 'availability_90',\n",
      "       'availability_365', 'number_of_reviews', 'number_of_reviews_ltm',\n",
      "       'number_of_reviews_l30d', 'first_review', 'last_review',\n",
      "       'review_scores_rating', 'review_scores_accuracy',\n",
      "       'review_scores_cleanliness', 'review_scores_checkin',\n",
      "       'review_scores_communication', 'review_scores_location',\n",
      "       'review_scores_value', 'instant_bookable',\n",
      "       'calculated_host_listings_count',\n",
      "       'calculated_host_listings_count_entire_homes',\n",
      "       'calculated_host_listings_count_private_rooms',\n",
      "       'calculated_host_listings_count_shared_rooms', 'reviews_per_month'],\n",
      "      dtype='object')\n"
     ]
    }
   ],
   "source": [
    "print(list_paris_df.columns)"
   ]
  },
  {
   "cell_type": "markdown",
   "metadata": {},
   "source": []
  },
  {
   "cell_type": "code",
   "execution_count": 18,
   "metadata": {},
   "outputs": [
    {
     "name": "stdout",
     "output_type": "stream",
     "text": [
      "(95461, 60)\n"
     ]
    }
   ],
   "source": [
    "list_paris_df = list_paris_df.drop(columns=['listing_url','scrape_id','last_scraped','source','picture_url','host_url','host_response_time',\n",
    "                                                          'host_response_rate','host_acceptance_rate','host_thumbnail_url','host_picture_url','neighbourhood_group_cleansed',\n",
    "                                                          'calendar_updated','license','calendar_last_scraped'])\n",
    "\n",
    "print(list_paris_df.shape)"
   ]
  },
  {
   "cell_type": "markdown",
   "metadata": {},
   "source": []
  },
  {
   "cell_type": "code",
   "execution_count": 19,
   "metadata": {},
   "outputs": [
    {
     "name": "stdout",
     "output_type": "stream",
     "text": [
      "(95461, 61)\n"
     ]
    }
   ],
   "source": [
    "paris_id = city_details.loc[city_details['city'] == 'paris']['id'].values[0]\n",
    "\n",
    "list_paris_df['city_id'] = paris_id\n",
    "\n",
    "print(list_paris_df.shape)"
   ]
  },
  {
   "cell_type": "markdown",
   "metadata": {},
   "source": []
  },
  {
   "cell_type": "code",
   "execution_count": 22,
   "metadata": {},
   "outputs": [
    {
     "name": "stdout",
     "output_type": "stream",
     "text": [
      "0        1\n",
      "1        1\n",
      "2        1\n",
      "3        1\n",
      "4        1\n",
      "        ..\n",
      "95456    1\n",
      "95457    1\n",
      "95458    1\n",
      "95459    1\n",
      "95460    1\n",
      "Name: city_id, Length: 95461, dtype: int64\n"
     ]
    }
   ],
   "source": [
    "print(list_paris_df)"
   ]
  },
  {
   "cell_type": "markdown",
   "metadata": {},
   "source": []
  },
  {
   "cell_type": "code",
   "execution_count": 45,
   "metadata": {},
   "outputs": [
    {
     "name": "stdout",
     "output_type": "stream",
     "text": [
      "   listing_id         id        date  reviewer_id reviewer_name  \\\n",
      "0        3109  207127433  2017-10-28     51636494      Patricia   \n",
      "1        3109  208779822  2017-11-03      4142888      Patricia   \n",
      "2        3109  295840159  2018-07-24      7415343       Laurent   \n",
      "3        3109  553502638  2019-10-24     21159216     Anastasia   \n",
      "4        5396       4824  2009-06-30        19995         Sarah   \n",
      "\n",
      "                                            comments  \n",
      "0            Tout s'est bien déroulé. Merci bien. PG  \n",
      "1  Un petit nid fouiller douillet situé dans  app...  \n",
      "2  Appartement spacieux, propre,clair, et calme à...  \n",
      "3  Appartement totalement rénové, en parfait état...  \n",
      "4  Perfect location!! Nasrine was a delight and m...  \n"
     ]
    }
   ],
   "source": [
    "import pandas as pd\n",
    "\n",
    "reviews_paris_df = pd.read_csv('/Users/shashwathkumar/Jupiitor notebook/assignment_1/dataset/reviews/reviews_paris.csv')\n",
    "print(reviews_paris_df.head())"
   ]
  },
  {
   "cell_type": "markdown",
   "metadata": {},
   "source": []
  },
  {
   "cell_type": "code",
   "execution_count": 46,
   "metadata": {},
   "outputs": [
    {
     "name": "stdout",
     "output_type": "stream",
     "text": [
      "(1999650, 6)\n"
     ]
    }
   ],
   "source": [
    "print(reviews_paris_df.shape)"
   ]
  },
  {
   "cell_type": "markdown",
   "metadata": {},
   "source": []
  },
  {
   "cell_type": "code",
   "execution_count": 27,
   "metadata": {},
   "outputs": [
    {
     "name": "stdout",
     "output_type": "stream",
     "text": [
      "(1999650, 5)\n"
     ]
    }
   ],
   "source": [
    "reviews_paris_df = reviews_paris_df.drop(columns=['reviewer_id','reviewer_name'])\n",
    "reviews_paris_df['city_id'] = paris_id\n",
    "\n",
    "print(reviews_paris_df.shape)"
   ]
  },
  {
   "cell_type": "markdown",
   "metadata": {},
   "source": []
  },
  {
   "cell_type": "code",
   "execution_count": 29,
   "metadata": {},
   "outputs": [
    {
     "name": "stdout",
     "output_type": "stream",
     "text": [
      "(95461, 61)\n",
      "(1999650, 5)\n"
     ]
    }
   ],
   "source": [
    "print(list_paris_df.shape)\n",
    "print(reviews_paris_df.shape)"
   ]
  },
  {
   "cell_type": "markdown",
   "metadata": {},
   "source": []
  },
  {
   "cell_type": "code",
   "execution_count": 52,
   "metadata": {},
   "outputs": [
    {
     "name": "stdout",
     "output_type": "stream",
     "text": [
      "<class 'pandas.core.frame.DataFrame'>\n",
      "Index: 46054 entries, 0 to 95456\n",
      "Data columns (total 61 columns):\n",
      " #   Column                                        Non-Null Count  Dtype  \n",
      "---  ------                                        --------------  -----  \n",
      " 0   id                                            46054 non-null  int64  \n",
      " 1   name                                          46054 non-null  object \n",
      " 2   description                                   44860 non-null  object \n",
      " 3   neighborhood_overview                         26419 non-null  object \n",
      " 4   host_id                                       46054 non-null  int64  \n",
      " 5   host_name                                     46054 non-null  object \n",
      " 6   host_since                                    46054 non-null  object \n",
      " 7   host_location                                 36226 non-null  object \n",
      " 8   host_about                                    21360 non-null  object \n",
      " 9   host_is_superhost                             44537 non-null  object \n",
      " 10  host_neighbourhood                            15427 non-null  object \n",
      " 11  host_listings_count                           46054 non-null  float64\n",
      " 12  host_total_listings_count                     46054 non-null  float64\n",
      " 13  host_verifications                            46054 non-null  object \n",
      " 14  host_has_profile_pic                          46054 non-null  object \n",
      " 15  host_identity_verified                        46054 non-null  object \n",
      " 16  neighbourhood                                 26419 non-null  object \n",
      " 17  neighbourhood_cleansed                        46054 non-null  object \n",
      " 18  latitude                                      46054 non-null  float64\n",
      " 19  longitude                                     46054 non-null  float64\n",
      " 20  property_type                                 46054 non-null  object \n",
      " 21  room_type                                     46054 non-null  object \n",
      " 22  accommodates                                  46054 non-null  int64  \n",
      " 23  bathrooms                                     46045 non-null  float64\n",
      " 24  bathrooms_text                                46005 non-null  object \n",
      " 25  bedrooms                                      45995 non-null  float64\n",
      " 26  beds                                          45984 non-null  float64\n",
      " 27  amenities                                     46054 non-null  object \n",
      " 28  price                                         46054 non-null  float64\n",
      " 29  minimum_nights                                46054 non-null  int64  \n",
      " 30  maximum_nights                                46054 non-null  int64  \n",
      " 31  minimum_minimum_nights                        46054 non-null  int64  \n",
      " 32  maximum_minimum_nights                        46054 non-null  int64  \n",
      " 33  minimum_maximum_nights                        46054 non-null  int64  \n",
      " 34  maximum_maximum_nights                        46054 non-null  int64  \n",
      " 35  minimum_nights_avg_ntm                        46054 non-null  float64\n",
      " 36  maximum_nights_avg_ntm                        46054 non-null  float64\n",
      " 37  has_availability                              46037 non-null  object \n",
      " 38  availability_30                               46054 non-null  int64  \n",
      " 39  availability_60                               46054 non-null  int64  \n",
      " 40  availability_90                               46054 non-null  int64  \n",
      " 41  availability_365                              46054 non-null  int64  \n",
      " 42  number_of_reviews                             46054 non-null  int64  \n",
      " 43  number_of_reviews_ltm                         46054 non-null  int64  \n",
      " 44  number_of_reviews_l30d                        46054 non-null  int64  \n",
      " 45  first_review                                  46054 non-null  object \n",
      " 46  last_review                                   46054 non-null  object \n",
      " 47  review_scores_rating                          46054 non-null  float64\n",
      " 48  review_scores_accuracy                        46052 non-null  float64\n",
      " 49  review_scores_cleanliness                     46053 non-null  float64\n",
      " 50  review_scores_checkin                         46050 non-null  float64\n",
      " 51  review_scores_communication                   46053 non-null  float64\n",
      " 52  review_scores_location                        46051 non-null  float64\n",
      " 53  review_scores_value                           46050 non-null  float64\n",
      " 54  instant_bookable                              46054 non-null  object \n",
      " 55  calculated_host_listings_count                46054 non-null  int64  \n",
      " 56  calculated_host_listings_count_entire_homes   46054 non-null  int64  \n",
      " 57  calculated_host_listings_count_private_rooms  46054 non-null  int64  \n",
      " 58  calculated_host_listings_count_shared_rooms   46054 non-null  int64  \n",
      " 59  reviews_per_month                             46054 non-null  float64\n",
      " 60  city_id                                       46054 non-null  int64  \n",
      "dtypes: float64(18), int64(21), object(22)\n",
      "memory usage: 21.8+ MB\n"
     ]
    }
   ],
   "source": [
    "list_paris_df.info()"
   ]
  },
  {
   "cell_type": "markdown",
   "metadata": {},
   "source": []
  },
  {
   "cell_type": "code",
   "execution_count": 32,
   "metadata": {},
   "outputs": [
    {
     "name": "stdout",
     "output_type": "stream",
     "text": [
      "<class 'pandas.core.series.Series'>\n",
      "RangeIndex: 95461 entries, 0 to 95460\n",
      "Series name: price\n",
      "Non-Null Count  Dtype \n",
      "--------------  ----- \n",
      "64230 non-null  object\n",
      "dtypes: object(1)\n",
      "memory usage: 745.9+ KB\n",
      "None\n"
     ]
    }
   ],
   "source": [
    "print(list_paris_df['price'].info())"
   ]
  },
  {
   "cell_type": "markdown",
   "metadata": {},
   "source": []
  },
  {
   "cell_type": "code",
   "execution_count": 34,
   "metadata": {},
   "outputs": [
    {
     "name": "stdout",
     "output_type": "stream",
     "text": [
      "<class 'pandas.core.series.Series'>\n",
      "RangeIndex: 95461 entries, 0 to 95460\n",
      "Series name: minimum_nights\n",
      "Non-Null Count  Dtype\n",
      "--------------  -----\n",
      "95461 non-null  int64\n",
      "dtypes: int64(1)\n",
      "memory usage: 745.9 KB\n",
      "None\n",
      "<class 'pandas.core.series.Series'>\n",
      "RangeIndex: 95461 entries, 0 to 95460\n",
      "Series name: maximum_nights\n",
      "Non-Null Count  Dtype\n",
      "--------------  -----\n",
      "95461 non-null  int64\n",
      "dtypes: int64(1)\n",
      "memory usage: 745.9 KB\n",
      "None\n"
     ]
    }
   ],
   "source": [
    "print(list_paris_df['minimum_nights'].info())\n",
    "print(list_paris_df['maximum_nights'].info())"
   ]
  },
  {
   "cell_type": "markdown",
   "metadata": {},
   "source": []
  },
  {
   "cell_type": "code",
   "execution_count": 35,
   "metadata": {},
   "outputs": [
    {
     "name": "stdout",
     "output_type": "stream",
     "text": [
      "<class 'pandas.core.series.Series'>\n",
      "RangeIndex: 95461 entries, 0 to 95460\n",
      "Series name: review_scores_rating\n",
      "Non-Null Count  Dtype  \n",
      "--------------  -----  \n",
      "68319 non-null  float64\n",
      "dtypes: float64(1)\n",
      "memory usage: 745.9 KB\n",
      "None\n",
      "<class 'pandas.core.series.Series'>\n",
      "RangeIndex: 95461 entries, 0 to 95460\n",
      "Series name: number_of_reviews\n",
      "Non-Null Count  Dtype\n",
      "--------------  -----\n",
      "95461 non-null  int64\n",
      "dtypes: int64(1)\n",
      "memory usage: 745.9 KB\n",
      "None\n"
     ]
    }
   ],
   "source": [
    "print(list_paris_df['review_scores_rating'].info())\n",
    "print(list_paris_df['number_of_reviews'].info())"
   ]
  },
  {
   "cell_type": "markdown",
   "metadata": {},
   "source": []
  },
  {
   "cell_type": "code",
   "execution_count": 38,
   "metadata": {},
   "outputs": [],
   "source": [
    "list_paris_df = list_paris_df.dropna(subset=['price'])\n",
    "list_paris_df = list_paris_df.dropna(subset=['review_scores_rating'])"
   ]
  },
  {
   "cell_type": "markdown",
   "metadata": {},
   "source": []
  },
  {
   "cell_type": "code",
   "execution_count": 39,
   "metadata": {},
   "outputs": [
    {
     "name": "stdout",
     "output_type": "stream",
     "text": [
      "(46054, 61)\n"
     ]
    }
   ],
   "source": [
    "print(list_paris_df.shape)"
   ]
  },
  {
   "cell_type": "markdown",
   "metadata": {},
   "source": []
  },
  {
   "cell_type": "code",
   "execution_count": 43,
   "metadata": {},
   "outputs": [
    {
     "name": "stdout",
     "output_type": "stream",
     "text": [
      "<class 'pandas.core.frame.DataFrame'>\n",
      "RangeIndex: 1999650 entries, 0 to 1999649\n",
      "Data columns (total 5 columns):\n",
      " #   Column      Dtype \n",
      "---  ------      ----- \n",
      " 0   listing_id  int64 \n",
      " 1   id          int64 \n",
      " 2   date        object\n",
      " 3   comments    object\n",
      " 4   city_id     int64 \n",
      "dtypes: int64(3), object(2)\n",
      "memory usage: 76.3+ MB\n",
      "None\n"
     ]
    }
   ],
   "source": [
    "print(reviews_paris_df.info())"
   ]
  },
  {
   "cell_type": "markdown",
   "metadata": {},
   "source": []
  },
  {
   "cell_type": "code",
   "execution_count": 49,
   "metadata": {},
   "outputs": [
    {
     "name": "stdout",
     "output_type": "stream",
     "text": [
      "0     113.0\n",
      "1      95.0\n",
      "2     145.0\n",
      "9     246.0\n",
      "10     80.0\n",
      "Name: price, dtype: float64\n"
     ]
    }
   ],
   "source": [
    "list_paris_df['price'] = list_paris_df['price'].astype(str).replace({'\\$':''}, regex=True).replace({',':''}, regex=True).astype(float)\n",
    "\n",
    "print(list_paris_df['price'].head())"
   ]
  },
  {
   "cell_type": "markdown",
   "metadata": {},
   "source": []
  },
  {
   "cell_type": "code",
   "execution_count": 51,
   "metadata": {},
   "outputs": [],
   "source": [
    "import pandas as pd\n",
    "\n",
    "list_paris_df.to_csv('/Users/shashwathkumar/Jupiitor notebook/assignment_1/dataset/pre_processed_listing_dataset/processed_listing_paris.csv')\n",
    "reviews_paris_df.to_csv('/Users/shashwathkumar/Jupiitor notebook/assignment_1/dataset/pre_processed_review_dataset/processed_review_paris.csv') "
   ]
  }
 ],
 "metadata": {
  "kernelspec": {
   "display_name": "ml-env",
   "language": "python",
   "name": "python3"
  },
  "language_info": {
   "codemirror_mode": {
    "name": "ipython",
    "version": 3
   },
   "file_extension": ".py",
   "mimetype": "text/x-python",
   "name": "python",
   "nbconvert_exporter": "python",
   "pygments_lexer": "ipython3",
   "version": "3.9.19"
  }
 },
 "nbformat": 4,
 "nbformat_minor": 2
}
